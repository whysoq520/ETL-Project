{
 "cells": [
  {
   "cell_type": "markdown",
   "metadata": {},
   "source": [
    "# Player Stats 2018"
   ]
  },
  {
   "cell_type": "code",
   "execution_count": 2,
   "metadata": {},
   "outputs": [],
   "source": [
    "# imports\n",
    "\n",
    "import requests\n",
    "import pandas as pd\n",
    "import numpy as np"
   ]
  },
  {
   "cell_type": "code",
   "execution_count": 3,
   "metadata": {},
   "outputs": [],
   "source": [
    "# initial setup\n",
    "\n",
    "categories = ['Transition', 'Isolation', 'PRBallHandler', 'PRRollman', 'Postup', 'Spotup', 'Handoff', 'Cut', 'OffScreen', 'OffRebound', 'Misc']\n",
    "all_data = [[], [], [], [], [], [], [], [], [], [], []]\n",
    "season = 2018\n",
    "limit = 500"
   ]
  },
  {
   "cell_type": "code",
   "execution_count": 4,
   "metadata": {},
   "outputs": [],
   "source": [
    "# pulling data from API\n",
    "\n",
    "for i in range(len(categories)):\n",
    "    pull = requests.get(f'https://stats-prod.nba.com/wp-json/statscms/v1/synergy/player//?category={categories[i]}&season={season}&seasonType=Reg&limit={limit}').json()\n",
    "    all_data[i].append(pull['results'])"
   ]
  },
  {
   "cell_type": "code",
   "execution_count": 5,
   "metadata": {},
   "outputs": [
    {
     "data": {
      "text/html": [
       "<div>\n",
       "<style scoped>\n",
       "    .dataframe tbody tr th:only-of-type {\n",
       "        vertical-align: middle;\n",
       "    }\n",
       "\n",
       "    .dataframe tbody tr th {\n",
       "        vertical-align: top;\n",
       "    }\n",
       "\n",
       "    .dataframe thead th {\n",
       "        text-align: right;\n",
       "    }\n",
       "</style>\n",
       "<table border=\"1\" class=\"dataframe\">\n",
       "  <thead>\n",
       "    <tr style=\"text-align: right;\">\n",
       "      <th></th>\n",
       "      <th>PlayerIDSID</th>\n",
       "      <th>TeamIDSID</th>\n",
       "      <th>category</th>\n",
       "      <th>year</th>\n",
       "      <th>name</th>\n",
       "      <th>GP</th>\n",
       "      <th>Points</th>\n",
       "      <th>FGA</th>\n",
       "      <th>FGM</th>\n",
       "      <th>PPG</th>\n",
       "    </tr>\n",
       "  </thead>\n",
       "  <tbody>\n",
       "    <tr>\n",
       "      <th>0</th>\n",
       "      <td>1628972</td>\n",
       "      <td>1610612764</td>\n",
       "      <td>Transition</td>\n",
       "      <td>2018</td>\n",
       "      <td>Offensive</td>\n",
       "      <td>52</td>\n",
       "      <td>63</td>\n",
       "      <td>41</td>\n",
       "      <td>25</td>\n",
       "      <td>1.211538</td>\n",
       "    </tr>\n",
       "    <tr>\n",
       "      <th>1</th>\n",
       "      <td>1628966</td>\n",
       "      <td>1610612750</td>\n",
       "      <td>Transition</td>\n",
       "      <td>2018</td>\n",
       "      <td>Offensive</td>\n",
       "      <td>30</td>\n",
       "      <td>45</td>\n",
       "      <td>34</td>\n",
       "      <td>19</td>\n",
       "      <td>1.500000</td>\n",
       "    </tr>\n",
       "    <tr>\n",
       "      <th>2</th>\n",
       "      <td>1627936</td>\n",
       "      <td>1610612747</td>\n",
       "      <td>Transition</td>\n",
       "      <td>2018</td>\n",
       "      <td>Offensive</td>\n",
       "      <td>25</td>\n",
       "      <td>41</td>\n",
       "      <td>24</td>\n",
       "      <td>12</td>\n",
       "      <td>1.640000</td>\n",
       "    </tr>\n",
       "    <tr>\n",
       "      <th>3</th>\n",
       "      <td>203895</td>\n",
       "      <td>1610612764</td>\n",
       "      <td>Transition</td>\n",
       "      <td>2018</td>\n",
       "      <td>Offensive</td>\n",
       "      <td>27</td>\n",
       "      <td>40</td>\n",
       "      <td>24</td>\n",
       "      <td>16</td>\n",
       "      <td>1.481481</td>\n",
       "    </tr>\n",
       "    <tr>\n",
       "      <th>4</th>\n",
       "      <td>1629244</td>\n",
       "      <td>1610612750</td>\n",
       "      <td>Transition</td>\n",
       "      <td>2018</td>\n",
       "      <td>Offensive</td>\n",
       "      <td>19</td>\n",
       "      <td>32</td>\n",
       "      <td>21</td>\n",
       "      <td>12</td>\n",
       "      <td>1.684211</td>\n",
       "    </tr>\n",
       "  </tbody>\n",
       "</table>\n",
       "</div>"
      ],
      "text/plain": [
       "   PlayerIDSID   TeamIDSID    category  year       name  GP  Points  FGA  FGM  \\\n",
       "0      1628972  1610612764  Transition  2018  Offensive  52      63   41   25   \n",
       "1      1628966  1610612750  Transition  2018  Offensive  30      45   34   19   \n",
       "2      1627936  1610612747  Transition  2018  Offensive  25      41   24   12   \n",
       "3       203895  1610612764  Transition  2018  Offensive  27      40   24   16   \n",
       "4      1629244  1610612750  Transition  2018  Offensive  19      32   21   12   \n",
       "\n",
       "        PPG  \n",
       "0  1.211538  \n",
       "1  1.500000  \n",
       "2  1.640000  \n",
       "3  1.481481  \n",
       "4  1.684211  "
      ]
     },
     "execution_count": 5,
     "metadata": {},
     "output_type": "execute_result"
    }
   ],
   "source": [
    "# creating dataframes\n",
    "\n",
    "data_df = []\n",
    "\n",
    "for i in range(len(categories)):\n",
    "    df = pd.DataFrame(all_data[i][0])\n",
    "    cat = [categories[i]]*len(all_data[i][0])\n",
    "    year = [2018]*len(all_data[i][0])\n",
    "    df['category'] = cat\n",
    "    df['year'] = year\n",
    "    data_df.append(df[[\"PlayerIDSID\", \"TeamIDSID\", 'category', 'year', 'name', 'GP', 'Points', 'FGA', 'FGM', 'PPG']])\n",
    "\n",
    "data_df[0].head()"
   ]
  },
  {
   "cell_type": "code",
   "execution_count": null,
   "metadata": {},
   "outputs": [],
   "source": [
    "# concatenating data by category\n",
    "\n",
    "full_data = data_df[0]\n",
    "\n",
    "for table in data_df[1:]:\n",
    "    full_data = pd.concat([full_data, table])\n"
   ]
  },
  {
   "cell_type": "code",
   "execution_count": null,
   "metadata": {},
   "outputs": [],
   "source": [
    "# export final dataframe to csv\n",
    "\n",
    "full_data.to_csv('Stats2018.csv', index=False, header=True)"
   ]
  },
  {
   "cell_type": "code",
   "execution_count": null,
   "metadata": {},
   "outputs": [],
   "source": []
  },
  {
   "cell_type": "code",
   "execution_count": null,
   "metadata": {},
   "outputs": [],
   "source": []
  },
  {
   "cell_type": "code",
   "execution_count": null,
   "metadata": {},
   "outputs": [],
   "source": []
  },
  {
   "cell_type": "code",
   "execution_count": null,
   "metadata": {},
   "outputs": [],
   "source": []
  },
  {
   "cell_type": "code",
   "execution_count": null,
   "metadata": {},
   "outputs": [],
   "source": []
  },
  {
   "cell_type": "code",
   "execution_count": null,
   "metadata": {},
   "outputs": [],
   "source": []
  },
  {
   "cell_type": "code",
   "execution_count": null,
   "metadata": {},
   "outputs": [],
   "source": []
  }
 ],
 "metadata": {
  "kernelspec": {
   "display_name": "Python 3",
   "language": "python",
   "name": "python3"
  },
  "language_info": {
   "codemirror_mode": {
    "name": "ipython",
    "version": 3
   },
   "file_extension": ".py",
   "mimetype": "text/x-python",
   "name": "python",
   "nbconvert_exporter": "python",
   "pygments_lexer": "ipython3",
   "version": "3.7.4"
  }
 },
 "nbformat": 4,
 "nbformat_minor": 2
}
